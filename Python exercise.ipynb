{
 "cells": [
  {
   "cell_type": "code",
   "execution_count": 1,
   "id": "79cbc5d9",
   "metadata": {},
   "outputs": [
    {
     "name": "stdout",
     "output_type": "stream",
     "text": [
      "enter the age1:34\n",
      "enter the age2:26\n",
      "enter the age3:18\n",
      "age 1 older than the rest of two ages\n"
     ]
    }
   ],
   "source": [
    "age1 = int(input(\"enter the age1:\"))\n",
    "age2 = int(input(\"enter the age2:\"))\n",
    "age3 = int(input(\"enter the age3:\"))\n",
    "if age1>age2 and age1>age3:\n",
    "    print(\"age 1 older than the rest of two ages\")\n",
    "elif age2>age1 and age2>age3:\n",
    "    print(\"age 2 is older than rest of two ages\")\n",
    "else:\n",
    "    print(\"age 3 is older than the rest of two ages\")"
   ]
  },
  {
   "cell_type": "code",
   "execution_count": 2,
   "id": "654d361f",
   "metadata": {},
   "outputs": [],
   "source": [
    "def cel_to_fah(cel):\n",
    "    fah = (cel*1.8)+32\n",
    "    return fah"
   ]
  },
  {
   "cell_type": "code",
   "execution_count": 3,
   "id": "c264f868",
   "metadata": {},
   "outputs": [
    {
     "data": {
      "text/plain": [
       "98.60000000000001"
      ]
     },
     "execution_count": 3,
     "metadata": {},
     "output_type": "execute_result"
    }
   ],
   "source": [
    "cel_to_fah(37)"
   ]
  },
  {
   "cell_type": "code",
   "execution_count": 7,
   "id": "fdc9af55",
   "metadata": {},
   "outputs": [
    {
     "name": "stdout",
     "output_type": "stream",
     "text": [
      "enter the 4 digit  value:3241\n",
      "rev: 1423\n",
      "original: 32\n",
      "false\n"
     ]
    }
   ],
   "source": [
    "user_input = int(input(\"enter the 4 digit  value:\"))\n",
    "num = user_input\n",
    "a = num%10\n",
    "num = num//10\n",
    "b = num%10\n",
    "num = num//10\n",
    "c = num%10\n",
    "d = num//10\n",
    "\n",
    "rev = 1000*a+100*b+10*c+d\n",
    "print(\"rev:\",rev)\n",
    "print(\"original:\",num)\n",
    "\n",
    "if num==rev:\n",
    "    print(\"True\")\n",
    "else:\n",
    "    print(\"false\")"
   ]
  },
  {
   "cell_type": "code",
   "execution_count": 8,
   "id": "0485c47f",
   "metadata": {},
   "outputs": [
    {
     "name": "stdout",
     "output_type": "stream",
     "text": [
      "enter the number:34562\n",
      "original: 34562\n",
      "rev: 26543\n",
      "False\n"
     ]
    }
   ],
   "source": [
    "user_input = int(input(\"enter the number:\"))\n",
    "##34562:\n",
    "num = user_input\n",
    "a = num%10\n",
    "num = num//10\n",
    "b = num%10\n",
    "num = num//10\n",
    "c = num%10\n",
    "num = num//10\n",
    "d = num%10\n",
    "e = num//10\n",
    "rev = 10000*a+1000*b+100*c+10*d+e\n",
    "print(\"original:\",user_input)\n",
    "print(\"rev:\",rev)\n",
    "\n",
    "if user_input==rev:\n",
    "    print(\"True\")\n",
    "else:\n",
    "    print(\"False\")"
   ]
  },
  {
   "cell_type": "code",
   "execution_count": 9,
   "id": "f5c649f1",
   "metadata": {},
   "outputs": [],
   "source": [
    "def add(x,y,z):\n",
    "    sum = x+y+z\n",
    "    return sum"
   ]
  },
  {
   "cell_type": "code",
   "execution_count": 10,
   "id": "8f78059a",
   "metadata": {},
   "outputs": [
    {
     "data": {
      "text/plain": [
       "15"
      ]
     },
     "execution_count": 10,
     "metadata": {},
     "output_type": "execute_result"
    }
   ],
   "source": [
    "add(3,5,7)"
   ]
  },
  {
   "cell_type": "code",
   "execution_count": 12,
   "id": "49225eeb",
   "metadata": {},
   "outputs": [
    {
     "name": "stdout",
     "output_type": "stream",
     "text": [
      "enter the number:9\n",
      "user_input is odd:\n"
     ]
    }
   ],
   "source": [
    "user_input = int(input(\"enter the number:\"))\n",
    "if user_input%2==0:\n",
    "    print(\"user_input is even:\")\n",
    "else:\n",
    "    print(\"user_input is odd:\")"
   ]
  },
  {
   "cell_type": "code",
   "execution_count": 14,
   "id": "b57361da",
   "metadata": {},
   "outputs": [
    {
     "name": "stdout",
     "output_type": "stream",
     "text": [
      "enter the year:2003\n",
      "it is not a leap year:\n"
     ]
    }
   ],
   "source": [
    "year = int(input(\"enter the year:\"))\n",
    "if year%4==0 and year%100!=0:\n",
    "    print(\"it is a leap year:\")\n",
    "elif year%100==0 and year%400==0:\n",
    "    print(\"it is a leap year:\")\n",
    "else:\n",
    "    print(\"it is not a leap year:\")"
   ]
  },
  {
   "cell_type": "code",
   "execution_count": 15,
   "id": "481206b0",
   "metadata": {},
   "outputs": [
    {
     "name": "stdout",
     "output_type": "stream",
     "text": [
      "10.0\n"
     ]
    }
   ],
   "source": [
    "x = 45\n",
    "x0 = 37\n",
    "y = 26\n",
    "y0 = 32\n",
    "euclidean_dis = ((x0-x)**2+(y0-y)**2)**0.5\n",
    "print(euclidean_dis)"
   ]
  },
  {
   "cell_type": "code",
   "execution_count": 17,
   "id": "40cb81f3",
   "metadata": {},
   "outputs": [
    {
     "name": "stdout",
     "output_type": "stream",
     "text": [
      "enter the selling price:36\n",
      "enter the cost price:26\n",
      "profit: 10\n"
     ]
    }
   ],
   "source": [
    "sp = int(input(\"enter the selling price:\"))\n",
    "cp = int(input(\"enter the cost price:\"))\n",
    "profit = sp-cp\n",
    "print(\"profit:\",profit)"
   ]
  },
  {
   "cell_type": "code",
   "execution_count": 18,
   "id": "ae61d331",
   "metadata": {},
   "outputs": [
    {
     "name": "stdout",
     "output_type": "stream",
     "text": [
      "enter the value of angle1:60\n",
      "enter the value of angle2:60\n",
      "enter the value of angle3:60\n",
      "it form a equirateral traingle:\n"
     ]
    }
   ],
   "source": [
    "angle1 = int(input(\"enter the value of angle1:\"))\n",
    "angle2 = int(input(\"enter the value of angle2:\"))\n",
    "angle3 = int(input(\"enter the value of angle3:\"))\n",
    "if angle1+angle2+angle3==180 and angle1==angle2==angle3:\n",
    "    print(\"it form a equirateral traingle:\")\n",
    "else:p\n",
    "    print(\"it cannnot form a equirateral traingle: \")\n"
   ]
  },
  {
   "cell_type": "code",
   "execution_count": 19,
   "id": "8a6ff333",
   "metadata": {},
   "outputs": [
    {
     "name": "stdout",
     "output_type": "stream",
     "text": [
      "enter the principle amount:5000\n",
      "enter the rate of interest:10\n",
      "enter the time period:2\n",
      "1000.0\n",
      "amount: 6000.0\n"
     ]
    }
   ],
   "source": [
    "p = int(input(\"enter the principle amount:\"))\n",
    "r = int(input(\"enter the rate of interest:\"))\n",
    "t = int(input(\"enter the time period:\"))\n",
    "si = p*r*t/100\n",
    "print(si)\n",
    "amount = p+si\n",
    "print(\"amount:\",amount)"
   ]
  },
  {
   "cell_type": "code",
   "execution_count": 21,
   "id": "46a8cdbe",
   "metadata": {},
   "outputs": [
    {
     "name": "stdout",
     "output_type": "stream",
     "text": [
      "enter the value of radius:3.2\n",
      "enter the value of height:10.4\n",
      "volume of cylinder: 334.3974400000001\n",
      "enter the value:40\n",
      "find_cost_of_cylinder: 13375.897600000004\n"
     ]
    }
   ],
   "source": [
    "radius = float(input(\"enter the value of radius:\"))\n",
    "height = float(input(\"enter the value of height:\"))\n",
    "pi = 3.14\n",
    "volume = pi*radius**2*height\n",
    "print(\"volume of cylinder:\",volume)\n",
    "\n",
    "cost_1ltr_milk = int(input(\"enter the value:\"))\n",
    "\n",
    "cost_of_cylinder = cost_1ltr_milk*volume\n",
    "print(\"find_cost_of_cylinder:\",cost_of_cylinder)"
   ]
  },
  {
   "cell_type": "code",
   "execution_count": 22,
   "id": "ffc7579b",
   "metadata": {},
   "outputs": [
    {
     "name": "stdout",
     "output_type": "stream",
     "text": [
      "enter the integer value:30\n",
      "num is divisible by both 3 and 6:\n"
     ]
    }
   ],
   "source": [
    "user_input = int(input(\"enter the integer value:\"))\n",
    "num = user_input\n",
    "\n",
    "if user_input%3==0 and user_input%6==0:\n",
    "    print(\"num is divisible by both 3 and 6:\")\n",
    "else:\n",
    "    print(\"num is not divisible by 3 and 6:\")"
   ]
  },
  {
   "cell_type": "code",
   "execution_count": 23,
   "id": "81f41c75",
   "metadata": {},
   "outputs": [
    {
     "name": "stdout",
     "output_type": "stream",
     "text": [
      "6\n",
      "12\n",
      "18\n",
      "24\n",
      "30\n",
      "36\n",
      "42\n",
      "48\n",
      "54\n",
      "60\n",
      "66\n",
      "72\n",
      "78\n",
      "84\n",
      "90\n",
      "96\n"
     ]
    }
   ],
   "source": [
    "for i in range(1,100):\n",
    "    if i%3==0 and i%6==0:\n",
    "        print(i)"
   ]
  },
  {
   "cell_type": "code",
   "execution_count": 24,
   "id": "0e966ca3",
   "metadata": {},
   "outputs": [
    {
     "name": "stdout",
     "output_type": "stream",
     "text": [
      "enter the temperature value:35\n",
      "enter the humidity value:50\n",
      "condition is hot\n",
      " input temp: 35\n",
      "humidity: 50\n"
     ]
    }
   ],
   "source": [
    "temp = int(input(\"enter the temperature value:\"))\n",
    "humidity = int(input(\"enter the humidity value:\"))\n",
    "\n",
    "if temp>=30 and humidity>=90:\n",
    "    print(\"hot and humid:\")\n",
    "elif temp>=30 and humidity<90:\n",
    "    print(\"condition is hot\")\n",
    "elif temp<30 and humidity>=90:\n",
    "    print(\"cool and humid:\")\n",
    "elif temp<30 and humidity<90:\n",
    "    print(\"cool\")\n",
    "else:\n",
    "    print(\"invalid input\")\n",
    "print(\" input temp:\",temp)\n",
    "print(\"humidity:\",humidity)"
   ]
  },
  {
   "cell_type": "code",
   "execution_count": 25,
   "id": "32ff8814",
   "metadata": {},
   "outputs": [
    {
     "name": "stdout",
     "output_type": "stream",
     "text": [
      "enter the value of a:2\n",
      "enter the value of b:3\n",
      "enter the value of c:4\n",
      "29\n"
     ]
    }
   ],
   "source": [
    "a = int(input(\"enter the value of a:\"))\n",
    "b = int(input(\"enter the value of b:\"))\n",
    "c = int(input(\"enter the value of c:\"))\n",
    "sum_of_square = a**2+b**2+c**2\n",
    "print(sum_of_square)\n"
   ]
  },
  {
   "cell_type": "code",
   "execution_count": 26,
   "id": "83261b8b",
   "metadata": {},
   "outputs": [
    {
     "name": "stdout",
     "output_type": "stream",
     "text": [
      "enter the armstrong:153\n",
      "this number is armstrong number:\n"
     ]
    }
   ],
   "source": [
    "user_input = int(input(\"enter the armstrong:\"))\n",
    "sum = 0\n",
    "num = user_input\n",
    "temp = num\n",
    "while temp>0:\n",
    "    digit = temp%10\n",
    "    cubic = digit**3\n",
    "    sum = sum+cubic\n",
    "    temp//=10\n",
    "if sum==num:\n",
    "    print(\"this number is armstrong number:\")\n",
    "else:\n",
    "    print(\"this number is not a armstrong number:\")\n",
    "    "
   ]
  },
  {
   "cell_type": "code",
   "execution_count": 29,
   "id": "5d864be3",
   "metadata": {},
   "outputs": [
    {
     "name": "stdout",
     "output_type": "stream",
     "text": [
      "enter the amount of salary:700000\n",
      "inhand , when salary range(5lpa-10lpa) 504000.0\n"
     ]
    }
   ],
   "source": [
    "salary = int(input(\"enter the amount of salary:\"))\n",
    "HRA = 0.10\n",
    "DA = 0.05\n",
    "PF = 0.03\n",
    "IT1 = 0.10\n",
    "IT2 = 0.20\n",
    "IT3 = 0.30\n",
    "\n",
    "if salary>=500000 and salary<=1000000:\n",
    "    inhand1 = salary-salary*IT1-salary*HRA-salary*DA-salary*PF\n",
    "    print(\"inhand , when salary range(5lpa-10lpa)\",inhand1)\n",
    "elif salary>=1100000 and salary<=2000000:\n",
    "    inhand2 = salary-salary*IT2-salary*HRA-salary*DA-salary*PF\n",
    "    print(\"inhand2 salary range(11lpa - 20lpa)\",inhand2)\n",
    "elif salary>=2000000 and salary<=3000000:\n",
    "    inhand3 = salary-salary*IT3-salary*HRA-salary*DA-salary*PF\n",
    "    print(\"inhand3 , salary range(20lpa,30lpa)\")\n",
    "elif salary>=0 and salary<=100000:\n",
    "    inhand4 = salary\n",
    "else:\n",
    "    print(\"invalid input:\")\n",
    "\n",
    "    print(\"COST TO COMPANY salary:\",salary)"
   ]
  },
  {
   "cell_type": "code",
   "execution_count": 32,
   "id": "7b143e47",
   "metadata": {},
   "outputs": [
    {
     "name": "stdout",
     "output_type": "stream",
     "text": [
      "select option from 1-41\n",
      "enter the value of cm:2.5\n",
      "cm_to_ft: 0.08333333333333333\n"
     ]
    }
   ],
   "source": [
    "option = int(input(\"select option from 1-4\"))\n",
    "if option==1:\n",
    "    cm = float(input(\"enter the value of cm:\"))\n",
    "    ft = cm/30\n",
    "    print(\"cm_to_ft:\",ft)\n",
    "elif option==2:\n",
    "    km = int(input(\"enter the value of km:\"))\n",
    "    miles = km/1.6\n",
    "    print(\"km_to_miles:\",miles)\n",
    "elif option==3:\n",
    "    usd = int(input(\"enter the value of usd\"))\n",
    "    inr = usd/80\n",
    "    print(\"usd_to_inr:\",inr)\n",
    "elif option==4:\n",
    "        print(\"exit\")\n",
    "else:\n",
    "    print(\"invalid input\")\n",
    "    \n"
   ]
  },
  {
   "cell_type": "code",
   "execution_count": 35,
   "id": "a0f177d2",
   "metadata": {},
   "outputs": [
    {
     "name": "stdout",
     "output_type": "stream",
     "text": [
      "enter the value:3\n",
      "enter the value:6\n",
      "original number: 3 6\n",
      "swaped value: 6 3\n"
     ]
    }
   ],
   "source": [
    "num1 = int(input(\"enter the value:\"))\n",
    "num2 = int(input(\"enter the value:\"))\n",
    "print(\"original number:\",num1,num2)\n",
    "num1,num2 = num2,num1\n",
    "print(\"swaped value:\",num1,num2)"
   ]
  },
  {
   "cell_type": "code",
   "execution_count": 37,
   "id": "090624d2",
   "metadata": {},
   "outputs": [
    {
     "name": "stdout",
     "output_type": "stream",
     "text": [
      "enter the value:10\n",
      "1\n",
      "3\n",
      "6\n",
      "10\n",
      "15\n",
      "21\n",
      "28\n",
      "36\n",
      "45\n",
      "55\n"
     ]
    }
   ],
   "source": [
    "num = int(input(\"enter the value:\"))\n",
    "sum = 0\n",
    "for i in range(1,num+1):\n",
    "    sum = sum+i\n",
    "    print(sum)\n",
    "    i = i+1\n",
    "    "
   ]
  },
  {
   "cell_type": "code",
   "execution_count": 43,
   "id": "82807fe5",
   "metadata": {},
   "outputs": [
    {
     "name": "stdout",
     "output_type": "stream",
     "text": [
      "28\n"
     ]
    }
   ],
   "source": [
    "def multiply(a,b):\n",
    "    result = 0\n",
    "    for _ in range(b):\n",
    "        result+=a\n",
    "    return result\n",
    "\n",
    "num1 = 4\n",
    "num2 = 7\n",
    "product = multiply(num1,num2)\n",
    "print(product)"
   ]
  },
  {
   "cell_type": "code",
   "execution_count": 44,
   "id": "0543434f",
   "metadata": {},
   "outputs": [
    {
     "name": "stdout",
     "output_type": "stream",
     "text": [
      "20\n"
     ]
    }
   ],
   "source": [
    "def multiply(a,b):\n",
    "    result = 0\n",
    "    for _ in range(b):\n",
    "        result+=a\n",
    "    return result\n",
    "\n",
    "num1 = 4\n",
    "num2 = 5\n",
    "product = multiply(num1,num2)\n",
    "print(product)"
   ]
  },
  {
   "cell_type": "code",
   "execution_count": null,
   "id": "f4e71201",
   "metadata": {},
   "outputs": [],
   "source": []
  }
 ],
 "metadata": {
  "kernelspec": {
   "display_name": "Python 3 (ipykernel)",
   "language": "python",
   "name": "python3"
  },
  "language_info": {
   "codemirror_mode": {
    "name": "ipython",
    "version": 3
   },
   "file_extension": ".py",
   "mimetype": "text/x-python",
   "name": "python",
   "nbconvert_exporter": "python",
   "pygments_lexer": "ipython3",
   "version": "3.10.9"
  }
 },
 "nbformat": 4,
 "nbformat_minor": 5
}
